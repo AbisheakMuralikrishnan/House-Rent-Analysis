{
 "cells": [
  {
   "cell_type": "code",
   "execution_count": 10,
   "metadata": {},
   "outputs": [],
   "source": [
    "import pandas as pd"
   ]
  },
  {
   "cell_type": "code",
   "execution_count": 11,
   "metadata": {},
   "outputs": [],
   "source": [
    "import numpy as np"
   ]
  },
  {
   "cell_type": "code",
   "execution_count": 55,
   "metadata": {},
   "outputs": [],
   "source": [
    "import matplotlib.pyplot as plt"
   ]
  },
  {
   "cell_type": "code",
   "execution_count": 12,
   "metadata": {},
   "outputs": [],
   "source": [
    "# Feeding the Data \n",
    "Data=pd.read_csv(\"D:\\Data Science files\\House_Rent_Dataset.csv\")"
   ]
  },
  {
   "cell_type": "code",
   "execution_count": 56,
   "metadata": {},
   "outputs": [
    {
     "data": {
      "text/html": [
       "<div>\n",
       "<style scoped>\n",
       "    .dataframe tbody tr th:only-of-type {\n",
       "        vertical-align: middle;\n",
       "    }\n",
       "\n",
       "    .dataframe tbody tr th {\n",
       "        vertical-align: top;\n",
       "    }\n",
       "\n",
       "    .dataframe thead th {\n",
       "        text-align: right;\n",
       "    }\n",
       "</style>\n",
       "<table border=\"1\" class=\"dataframe\">\n",
       "  <thead>\n",
       "    <tr style=\"text-align: right;\">\n",
       "      <th></th>\n",
       "      <th>Posted On</th>\n",
       "      <th>BHK</th>\n",
       "      <th>Rent</th>\n",
       "      <th>Size</th>\n",
       "      <th>Floor</th>\n",
       "      <th>Area Type</th>\n",
       "      <th>Area Locality</th>\n",
       "      <th>City</th>\n",
       "      <th>Furnishing Status</th>\n",
       "      <th>Tenant Preferred</th>\n",
       "      <th>Bathroom</th>\n",
       "      <th>Point of Contact</th>\n",
       "    </tr>\n",
       "  </thead>\n",
       "  <tbody>\n",
       "    <tr>\n",
       "      <th>0</th>\n",
       "      <td>2022-05-18</td>\n",
       "      <td>2</td>\n",
       "      <td>10000</td>\n",
       "      <td>1100</td>\n",
       "      <td>Ground out of 2</td>\n",
       "      <td>Super Area</td>\n",
       "      <td>Bandel</td>\n",
       "      <td>Kolkata</td>\n",
       "      <td>Unfurnished</td>\n",
       "      <td>Bachelors/Family</td>\n",
       "      <td>2</td>\n",
       "      <td>Contact Owner</td>\n",
       "    </tr>\n",
       "    <tr>\n",
       "      <th>1</th>\n",
       "      <td>2022-05-13</td>\n",
       "      <td>2</td>\n",
       "      <td>20000</td>\n",
       "      <td>800</td>\n",
       "      <td>1 out of 3</td>\n",
       "      <td>Super Area</td>\n",
       "      <td>Phool Bagan, Kankurgachi</td>\n",
       "      <td>Kolkata</td>\n",
       "      <td>Semi-Furnished</td>\n",
       "      <td>Bachelors/Family</td>\n",
       "      <td>1</td>\n",
       "      <td>Contact Owner</td>\n",
       "    </tr>\n",
       "    <tr>\n",
       "      <th>2</th>\n",
       "      <td>2022-05-16</td>\n",
       "      <td>2</td>\n",
       "      <td>17000</td>\n",
       "      <td>1000</td>\n",
       "      <td>1 out of 3</td>\n",
       "      <td>Super Area</td>\n",
       "      <td>Salt Lake City Sector 2</td>\n",
       "      <td>Kolkata</td>\n",
       "      <td>Semi-Furnished</td>\n",
       "      <td>Bachelors/Family</td>\n",
       "      <td>1</td>\n",
       "      <td>Contact Owner</td>\n",
       "    </tr>\n",
       "    <tr>\n",
       "      <th>3</th>\n",
       "      <td>2022-07-04</td>\n",
       "      <td>2</td>\n",
       "      <td>10000</td>\n",
       "      <td>800</td>\n",
       "      <td>1 out of 2</td>\n",
       "      <td>Super Area</td>\n",
       "      <td>Dumdum Park</td>\n",
       "      <td>Kolkata</td>\n",
       "      <td>Unfurnished</td>\n",
       "      <td>Bachelors/Family</td>\n",
       "      <td>1</td>\n",
       "      <td>Contact Owner</td>\n",
       "    </tr>\n",
       "    <tr>\n",
       "      <th>4</th>\n",
       "      <td>2022-05-09</td>\n",
       "      <td>2</td>\n",
       "      <td>7500</td>\n",
       "      <td>850</td>\n",
       "      <td>1 out of 2</td>\n",
       "      <td>Carpet Area</td>\n",
       "      <td>South Dum Dum</td>\n",
       "      <td>Kolkata</td>\n",
       "      <td>Unfurnished</td>\n",
       "      <td>Bachelors</td>\n",
       "      <td>1</td>\n",
       "      <td>Contact Owner</td>\n",
       "    </tr>\n",
       "  </tbody>\n",
       "</table>\n",
       "</div>"
      ],
      "text/plain": [
       "    Posted On  BHK   Rent  Size            Floor    Area Type  \\\n",
       "0  2022-05-18    2  10000  1100  Ground out of 2   Super Area   \n",
       "1  2022-05-13    2  20000   800       1 out of 3   Super Area   \n",
       "2  2022-05-16    2  17000  1000       1 out of 3   Super Area   \n",
       "3  2022-07-04    2  10000   800       1 out of 2   Super Area   \n",
       "4  2022-05-09    2   7500   850       1 out of 2  Carpet Area   \n",
       "\n",
       "              Area Locality     City Furnishing Status  Tenant Preferred  \\\n",
       "0                    Bandel  Kolkata       Unfurnished  Bachelors/Family   \n",
       "1  Phool Bagan, Kankurgachi  Kolkata    Semi-Furnished  Bachelors/Family   \n",
       "2   Salt Lake City Sector 2  Kolkata    Semi-Furnished  Bachelors/Family   \n",
       "3               Dumdum Park  Kolkata       Unfurnished  Bachelors/Family   \n",
       "4             South Dum Dum  Kolkata       Unfurnished         Bachelors   \n",
       "\n",
       "   Bathroom Point of Contact  \n",
       "0         2    Contact Owner  \n",
       "1         1    Contact Owner  \n",
       "2         1    Contact Owner  \n",
       "3         1    Contact Owner  \n",
       "4         1    Contact Owner  "
      ]
     },
     "execution_count": 56,
     "metadata": {},
     "output_type": "execute_result"
    }
   ],
   "source": [
    "# Sample of data\n",
    "Data.head()"
   ]
  },
  {
   "cell_type": "code",
   "execution_count": 58,
   "metadata": {},
   "outputs": [
    {
     "name": "stdout",
     "output_type": "stream",
     "text": [
      "Posted On            0\n",
      "BHK                  0\n",
      "Rent                 0\n",
      "Size                 0\n",
      "Floor                0\n",
      "Area Type            0\n",
      "Area Locality        0\n",
      "City                 0\n",
      "Furnishing Status    0\n",
      "Tenant Preferred     0\n",
      "Bathroom             0\n",
      "Point of Contact     0\n",
      "dtype: int64\n"
     ]
    }
   ],
   "source": [
    "print(Data.isnull().sum())"
   ]
  },
  {
   "cell_type": "code",
   "execution_count": 29,
   "metadata": {},
   "outputs": [],
   "source": [
    "# Options of Cities available : \n",
    "def city():\n",
    "    city=Data[\"City\"].unique()\n",
    "    print(city)"
   ]
  },
  {
   "cell_type": "code",
   "execution_count": 30,
   "metadata": {},
   "outputs": [],
   "source": [
    "# Area types available :\n",
    "def area_type():\n",
    "    area_type=Data[\"Area Type\"].unique()\n",
    "    print(area_type)"
   ]
  },
  {
   "cell_type": "code",
   "execution_count": 31,
   "metadata": {},
   "outputs": [],
   "source": [
    "# Area localities available : \n",
    "def area_locality():\n",
    "    area_locality=Data[\"Area Locality\"].unique()\n",
    "    print(area_locality)"
   ]
  },
  {
   "cell_type": "code",
   "execution_count": 32,
   "metadata": {},
   "outputs": [],
   "source": [
    "# Options of BHK(Bedroom, Hall, Kitchen) available : \n",
    "def bhk():\n",
    "    bhk=Data[\"BHK\"].unique()\n",
    "    print(bhk)"
   ]
  },
  {
   "cell_type": "code",
   "execution_count": 33,
   "metadata": {},
   "outputs": [],
   "source": [
    "# size of house available :\n",
    "def size():\n",
    "    size=Data[\"Size\"].unique()\n",
    "    print(size)"
   ]
  },
  {
   "cell_type": "code",
   "execution_count": 104,
   "metadata": {},
   "outputs": [],
   "source": [
    "# options of Floors of house available :\n",
    "def floor():\n",
    "    floor=Data[\"Floor\"].unique()\n",
    "    print(floor)"
   ]
  },
  {
   "cell_type": "code",
   "execution_count": 105,
   "metadata": {},
   "outputs": [],
   "source": [
    "# Furnishing Statuses available : \n",
    "def furnishing():\n",
    "    furnishing=Data[\"Furnishing Status\"].unique()\n",
    "    print(furnishing)"
   ]
  },
  {
   "cell_type": "code",
   "execution_count": 106,
   "metadata": {},
   "outputs": [],
   "source": [
    "# Tenants preffered : \n",
    "def tenant_preferred():\n",
    "    tenant_preferred=Data[\"Tenant Preferred\"].unique()\n",
    "    print(tenant_preferred)"
   ]
  },
  {
   "cell_type": "code",
   "execution_count": 107,
   "metadata": {},
   "outputs": [
    {
     "name": "stdout",
     "output_type": "stream",
     "text": [
      "Index(['Posted On', 'BHK', 'Rent', 'Size', 'Floor', 'Area Type',\n",
      "       'Area Locality', 'City', 'Furnishing Status', 'Tenant Preferred',\n",
      "       'Bathroom', 'Point of Contact'],\n",
      "      dtype='object')\n"
     ]
    }
   ],
   "source": [
    "x=Data.columns\n",
    "print(x)"
   ]
  },
  {
   "cell_type": "code",
   "execution_count": 108,
   "metadata": {},
   "outputs": [
    {
     "name": "stdout",
     "output_type": "stream",
     "text": [
      "['Kolkata' 'Mumbai' 'Bangalore' 'Delhi' 'Chennai' 'Hyderabad']\n"
     ]
    }
   ],
   "source": [
    "city()"
   ]
  },
  {
   "cell_type": "code",
   "execution_count": 109,
   "metadata": {},
   "outputs": [
    {
     "name": "stdout",
     "output_type": "stream",
     "text": [
      "['Super Area' 'Carpet Area' 'Built Area']\n"
     ]
    }
   ],
   "source": [
    "area_type()"
   ]
  },
  {
   "cell_type": "code",
   "execution_count": 110,
   "metadata": {},
   "outputs": [
    {
     "name": "stdout",
     "output_type": "stream",
     "text": [
      "['Bandel' 'Phool Bagan, Kankurgachi' 'Salt Lake City Sector 2' ...\n",
      " 'BN Reddy Nagar' 'Godavari Homes, Quthbullapur' 'Manikonda, Hyderabad']\n"
     ]
    }
   ],
   "source": [
    "area_locality()"
   ]
  },
  {
   "cell_type": "code",
   "execution_count": 111,
   "metadata": {},
   "outputs": [
    {
     "name": "stdout",
     "output_type": "stream",
     "text": [
      "[2 1 3 6 4 5]\n"
     ]
    }
   ],
   "source": [
    "bhk()"
   ]
  },
  {
   "cell_type": "code",
   "execution_count": 112,
   "metadata": {},
   "outputs": [
    {
     "name": "stdout",
     "output_type": "stream",
     "text": [
      "[1100  800 1000  850  600  700  250 1200  400  375  900 1286 2000  660\n",
      "  650  300 1600  355  350  550  500  630  270 1500 1300 1068  150  450\n",
      "  720  680  950 1800  480  435 1450  750  220   20  200  840  740  490\n",
      "  751  280  120 1220  670  190  240 2200  685   44 1110  392  710 1400\n",
      "  160 1250  839  230  620 1350  723  320 2160 1700  130  505 4000 1190\n",
      " 1012  812  420 1750  830 1050  960  756  288  986 1330  322 3500  957\n",
      " 1430 1320  475  780  570  460  530  558  175  425  721 1150 2210  675\n",
      " 1880  640 1650  518  777 2308  890  888  275  424 2079  586  610  488\n",
      "  722  470  410  540  932  560 3000  696 2500  715 1337  737  760  365\n",
      " 2600 1783  565 1514 1080  825  360 1545  432  695 1095  790  661  330\n",
      "  925 1105 1460  415  585 1755  385  628 1064  845 1915  807  380  428\n",
      " 1550 1454  860  433 2700 1225 1224  305  690  635 1379  390  935  535\n",
      " 3700 1208 3200  225  463 1900 1325  905  455  430  795  575  656  719\n",
      " 3064 3400  980 2800  413 1850 1705 1355  340  471 1528 1030  985  806\n",
      "  583  994  520 2750 2424  724 1076 2170  485  478  704  525  755  625\n",
      "  370  805  742  745 1265  325  902 1233 2120 1937 5000  596 1950  510\n",
      " 1260  770 3900  694 3250 1740  472  421  515  831  753 1197  880 1088\n",
      " 2650  975  785 1016  444  508  623 1358 1255  955  870 1691  615  663\n",
      " 1432  649  882  736 1710  555 1065  854  906 1130  495  407 1092  669\n",
      "  725  999 1256  889  434 1121  937  379  920  440  582 1617  836 2046\n",
      "  730  229  910 1648  820  771 1526  465 1073  310  967 1649 1560 4500\n",
      " 1425 1375 1270  265  422  895 1663  377 2080  965 2100 1380  868  970\n",
      "  774 1152  641  810  875  758 2880 1962  590 1120 2729 3354 1040 1403\n",
      " 2608 1045 1021 1280 1680 1155 2900 3150  100 1603 1771  773  865 1840\n",
      " 1159   50  990 1360 1757 1281 1221  416  976 1387 1020 1645 3276 1893\n",
      " 1296 4800 1066 2150 2110 1025 1180  580  904 1252 2770  144 1005 1274\n",
      " 1480 1115 1060 1278 4105 1055  894 2400 2430 1475 4341  846  110 5700\n",
      " 1760 3100  775  445 2710 1768  532 1465  940 1789 1618 1374 1580 4550\n",
      " 1333 1875 1660 1305 1188 2390 1788 1520 1464  180  140   75 1670   70\n",
      "   60  170   48 1901  145   25  892   80   45 1125  713   54   63 1440\n",
      "   55   68   65 2300   84   90  512  446  125  499   30  497   95  272\n",
      " 2925  106   96  545  165 1872   40   42 2550 3800 1205   77 1027 1428\n",
      " 2117 1462  674 1540  930 1210 1234 1162 1261 1145 3600 1158  898  717\n",
      " 1070 2036  619  115 1725 2064 1557  917  579 1920 1002  778 1567 1113\n",
      " 1175 1010  618 1651  705  901 1340 1246 1099 1530 1780 1402 1484 1140\n",
      " 1525 1132 3300  786 1785  803 1975  914 1170 1435 1444 1503  966 1062\n",
      " 1015 1570 1157 2792 1153  506  749 1107 1235 1415  281 6000  926 2280\n",
      "  826  502  833  809 2240 1424  595 1075 2317 1109 1290  939 1610  973\n",
      " 1420  843 1144 1903 1383 1912 1146  909  886 1625 1535  647 1798 2061\n",
      "  919 2395 1815 2290 1473 4050 2520  242 1496  878 1956 1955 1090 3133\n",
      " 2050 1160 1417 1565 1675 1135 3698 2405 1248 3115  927  562 1720  103\n",
      " 8000 1730  133  192 1315 1230 4761 1970 1940  167  933 1742 1838 1960\n",
      " 1275 1285 2235 1283 3455 3050 7000 1606 2352 2671 1156   67 1492 2990\n",
      " 2780 1685  853 2310 1965 1834   10 3789 1422 1124 4200  214  855]\n"
     ]
    }
   ],
   "source": [
    "size()"
   ]
  },
  {
   "cell_type": "code",
   "execution_count": 113,
   "metadata": {},
   "outputs": [
    {
     "name": "stdout",
     "output_type": "stream",
     "text": [
      "['Ground out of 2' '1 out of 3' '1 out of 2' 'Ground out of 1'\n",
      " 'Ground out of 4' '1 out of 4' '1 out of 1' 'Ground out of 3'\n",
      " '2 out of 3' '4 out of 5' '2 out of 2' '2 out of 5' '4 out of 14'\n",
      " '3 out of 3' '5 out of 5' '4 out of 4' '7 out of 8' '2 out of 4'\n",
      " '3 out of 4' '1 out of 5' '8 out of 5' 'Ground out of 6' '2 out of 1'\n",
      " 'Upper Basement out of 4' 'Ground out of 5' '3 out of 5' '11 out of 19'\n",
      " '5 out of 10' '11 out of 14' 'Lower Basement out of 2' '2 out of 7'\n",
      " '4 out of 10' '7 out of 10' '2 out of 13' '6 out of 7' '4 out of 7'\n",
      " '14 out of 14' '43 out of 78' '2 out of 8' '13 out of 18' '5 out of 12'\n",
      " '18 out of 24' '3 out of 7' '17 out of 31' '11 out of 21' '7 out of 19'\n",
      " '14 out of 23' '9 out of 20' 'Upper Basement out of 9' '19 out of 24'\n",
      " '3 out of 21' '1 out of 22' '8 out of 8' '6 out of 12' '4 out of 58'\n",
      " 'Upper Basement out of 16' '60 out of 66' '34 out of 48' '5 out of 8'\n",
      " '5 out of 14' '14 out of 40' '5 out of 7' '9 out of 22' '12 out of 18'\n",
      " '26 out of 44' '1 out of 8' '25 out of 42' '25 out of 41' '53 out of 78'\n",
      " 'Ground out of 7' '14 out of 20' '13 out of 20' '16 out of 23'\n",
      " '10 out of 18' '39 out of 60' '16 out of 21' '10 out of 32' '4 out of 8'\n",
      " '12 out of 24' '32 out of 41' '3 out of 30' '13 out of 21' '9 out of 29'\n",
      " '47 out of 89' '7 out of 41' '28 out of 30' '13 out of 15' '6 out of 21'\n",
      " '8 out of 16' '2 out of 6' '5 out of 19' '3 out of 11' '17 out of 42'\n",
      " '10 out of 12' '8 out of 28' '9 out of 15' '14 out of 22' '18 out of 40'\n",
      " '9 out of 17' '12 out of 45' '25 out of 35' '7 out of 15' '10 out of 16'\n",
      " 'Upper Basement out of 20' '5 out of 20' 'Upper Basement out of 40'\n",
      " '5 out of 18' '34 out of 58' '4 out of 6' '20 out of 22' '12 out of 19'\n",
      " '15 out of 18' '65 out of 78' '6 out of 16' '17 out of 22' '6 out of 24'\n",
      " '40 out of 75' '19 out of 38' '15 out of 31' '11 out of 28'\n",
      " '10 out of 22' '17 out of 24' '15 out of 19' '9 out of 10' '7 out of 12'\n",
      " '8 out of 20' '11 out of 13' '9 out of 19' '37 out of 51' '6 out of 11'\n",
      " '8 out of 15' '11 out of 20' '10 out of 23' 'Upper Basement out of 10'\n",
      " '7 out of 23' '4 out of 11' '17 out of 43' '7 out of 22' '14 out of 18'\n",
      " '6 out of 10' '8 out of 12' '3 out of 18' '7 out of 7' '14 out of 58'\n",
      " '18 out of 23' '19 out of 19' '13 out of 14' '7 out of 11' '11 out of 22'\n",
      " 'Upper Basement out of 30' '12 out of 14' '16 out of 31' '12 out of 13'\n",
      " '11 out of 51' '2 out of 12' '22 out of 24' '7 out of 14' '5 out of 13'\n",
      " '7 out of 21' '14 out of 21' '17 out of 25' '9 out of 14' '8 out of 27'\n",
      " '3 out of 6' '17 out of 20' '18 out of 22' '1 out of 7' '9 out of 30'\n",
      " '3 out of 8' '11 out of 26' '17 out of 27' '4 out of 12' '12 out of 16'\n",
      " '10 out of 24' '65 out of 76' '7 out of 9' '17 out of 60' '10 out of 11'\n",
      " '18 out of 25' '5 out of 11' '15 out of 17' '15 out of 23' '5 out of 17'\n",
      " '3 out of 28' '5 out of 24' '16 out of 32' '21 out of 22' '7 out of 13'\n",
      " '9 out of 12' '15 out of 32' '18 out of 27' '15 out of 16' '18 out of 45'\n",
      " '15 out of 15' '6 out of 14' '1 out of 20' '16 out of 36' '30 out of 44'\n",
      " '30 out of 37' '2 out of 9' '12 out of 22' '4 out of 9' '2 out of 22'\n",
      " '5 out of 6' '6 out of 18' '35 out of 55' '16 out of 29' '30 out of 45'\n",
      " '5 out of 9' '16 out of 25' '33 out of 42' '4 out of 16' '13 out of 23'\n",
      " '9 out of 38' '6 out of 8' '8 out of 13' '19 out of 30' '10 out of 14'\n",
      " '11 out of 24' '9 out of 16' '9 out of 31' '4 out of 15' '3 out of 9'\n",
      " '22 out of 30' '3 out of 58' '1 out of 9' '53 out of 60' '5 out of 22'\n",
      " '15 out of 22' '19 out of 21' '9 out of 40' 'Ground out of 8'\n",
      " '44 out of 75' '8 out of 17' '3 out of 14' '12 out of 31' '26 out of 42'\n",
      " '2 out of 45' '12 out of 68' '17 out of 36' '10 out of 28' '41 out of 41'\n",
      " '14 out of 68' '14 out of 17' '15 out of 20' '46 out of 76'\n",
      " '12 out of 20' '20 out of 30' '18 out of 32' '10 out of 25'\n",
      " '17 out of 29' '10 out of 31' '10 out of 15' '13 out of 16' '8 out of 10'\n",
      " '18 out of 21' '27 out of 58' '1 out of 6' '19 out of 25' '3 out of 15'\n",
      " '25 out of 43' '8 out of 14' '11 out of 12' '9 out of 21' '10 out of 13'\n",
      " '45 out of 77' '18 out of 19' '10 out of 20' '12 out of 29'\n",
      " 'Lower Basement out of 18' '15 out of 24' '48 out of 68' '12 out of 42'\n",
      " '16 out of 22' '35 out of 68' '18 out of 30' '11 out of 31'\n",
      " '50 out of 75' '18 out of 26' '12 out of 27' '16 out of 20'\n",
      " '24 out of 55' '16 out of 37' 'Upper Basement out of 7' '6 out of 15'\n",
      " '11 out of 27' '11 out of 23' '3 out of 12' '14 out of 15' '23 out of 25'\n",
      " '14 out of 48' '29 out of 35' '15 out of 36' '15 out of 25'\n",
      " '15 out of 28' '3 out of 36' '8 out of 11' '6 out of 20' '23 out of 23'\n",
      " '5 out of 15' '16 out of 18' '2 out of 10' '40 out of 50' '25 out of 28'\n",
      " '12 out of 17' '34 out of 40' 'Upper Basement out of 22' '8 out of 23'\n",
      " '5 out of 21' '32 out of 59' '20 out of 32' '9 out of 18' '10 out of 37'\n",
      " '25 out of 48' '4 out of 22' '8 out of 18' '11 out of 11' '5 out of 23'\n",
      " '60 out of 77' '11 out of 18' '4 out of 20' '5 out of 16' '3 out of 13'\n",
      " '30 out of 58' '15 out of 43' '7 out of 16' '18 out of 28' '9 out of 55'\n",
      " '11 out of 25' '49 out of 55' '7 out of 27' '14 out of 27' '16 out of 27'\n",
      " '25 out of 50' '6 out of 30' '21 out of 23' '8 out of 58' '20 out of 41'\n",
      " '3 out of 62' '4 out of 13' '7 out of 17' '12 out of 21' '28 out of 39'\n",
      " '15 out of 58' '6 out of 23' '36 out of 45' '9 out of 28' '6 out of 45'\n",
      " '22 out of 52' '10 out of 19' '21 out of 58' '48 out of 54' '7 out of 28'\n",
      " '11 out of 15' '19 out of 22' '15 out of 37' '2 out of 17' '76 out of 78'\n",
      " '3 out of 10' '20 out of 27' '8 out of 36' '14 out of 33' '21 out of 21'\n",
      " '12 out of 25' '18 out of 29' '14 out of 35' '7 out of 20' '20 out of 37'\n",
      " '9 out of 35' '27 out of 27' '15 out of 60' '19 out of 33' '18 out of 20'\n",
      " '13 out of 40' '9 out of 11' '8 out of 22' '6 out of 13' '20 out of 31'\n",
      " '27 out of 45' '19 out of 20' '32 out of 46' '19 out of 85' '3 out of 23'\n",
      " '34 out of 46' '4 out of 27' '19 out of 27' '35 out of 60' '21 out of 33'\n",
      " '25 out of 52' '2 out of 24' '24 out of 24' '18 out of 33' '1 out of 10'\n",
      " '45 out of 60' '60 out of 71' '36 out of 81' '24 out of 60'\n",
      " '16 out of 38' '8 out of 45' 'Ground out of 16' '8 out of 32'\n",
      " '10 out of 10' '23 out of 40' '7 out of 18' '8 out of 19' '6 out of 17'\n",
      " '16 out of 34' 'Ground out of 12' '6 out of 9' 'Ground out of 18'\n",
      " '20 out of 25' '3 out of 22' '9 out of 32' '26 out of 32' '17 out of 18'\n",
      " '24 out of 25' '19 out of 26' '17 out of 19' '1 out of 13' '14 out of 30'\n",
      " '8 out of 9' '3 out of 17' 'Lower Basement out of 3' '12 out of 23'\n",
      " 'Ground out of 9' '1 out of 24' '1 out of 12' '3' 'Ground' '15 out of 29'\n",
      " '20 out of 20' '14 out of 29' 'Lower Basement out of 1' '13 out of 17'\n",
      " '1 out of 14' 'Upper Basement out of 2' '2 out of 14' '24 out of 31'\n",
      " '2 out of 32' '2 out of 16' '9 out of 13' '1 out of 11' '6 out of 29'\n",
      " '9 out of 9' '28 out of 31' '1 out of 15' 'Ground out of 14'\n",
      " '2 out of 11' '19 out of 31' '1 out of 16' '25 out of 32' '11 out of 16'\n",
      " '11 out of 17' 'Upper Basement out of 3' '4 out of 24' '1 out of 19'\n",
      " '7 out of 30' '16 out of 19' 'Upper Basement out of 5' 'Ground out of 13'\n",
      " '2 out of 25' '23 out of 30' '4 out of 30' '13 out of 25' '23 out of 35'\n",
      " 'Ground out of 10' '5 out of 34' '20 out of 35' '1' '4 out of 31'\n",
      " '4 out of 26' '24 out of 33' '4 out of 17' '1 out of 35' '11 out of 35'\n",
      " 'Ground out of 15' 'Ground out of 27' '15 out of 30' '12 out of 30'\n",
      " '23 out of 34']\n"
     ]
    }
   ],
   "source": [
    "floor()"
   ]
  },
  {
   "cell_type": "code",
   "execution_count": 103,
   "metadata": {},
   "outputs": [
    {
     "name": "stdout",
     "output_type": "stream",
     "text": [
      "['Unfurnished' 'Semi-Furnished' 'Furnished']\n"
     ]
    }
   ],
   "source": [
    "furnishing()"
   ]
  },
  {
   "cell_type": "code",
   "execution_count": 43,
   "metadata": {},
   "outputs": [
    {
     "name": "stdout",
     "output_type": "stream",
     "text": [
      "['Bachelors/Family' 'Bachelors' 'Family']\n"
     ]
    }
   ],
   "source": [
    "tenant_preferred()"
   ]
  },
  {
   "cell_type": "code",
   "execution_count": 44,
   "metadata": {},
   "outputs": [
    {
     "name": "stdout",
     "output_type": "stream",
     "text": [
      "Mean Rent: 34993.45132743363\n"
     ]
    }
   ],
   "source": [
    "#Mean rent\n",
    "print(f\"Mean Rent: {Data.Rent.mean()}\")\n"
   ]
  },
  {
   "cell_type": "code",
   "execution_count": 45,
   "metadata": {},
   "outputs": [
    {
     "name": "stdout",
     "output_type": "stream",
     "text": [
      "Median Rent: 16000.0\n"
     ]
    }
   ],
   "source": [
    "#Median rent\n",
    "print(f\"Median Rent: {Data.Rent.median()}\")\n"
   ]
  },
  {
   "cell_type": "code",
   "execution_count": 46,
   "metadata": {},
   "outputs": [
    {
     "name": "stdout",
     "output_type": "stream",
     "text": [
      "Highest Rent: 3500000\n"
     ]
    }
   ],
   "source": [
    "#Higest rent\n",
    "print(f\"Highest Rent: {Data.Rent.max()}\")\n"
   ]
  },
  {
   "cell_type": "code",
   "execution_count": 47,
   "metadata": {},
   "outputs": [
    {
     "name": "stdout",
     "output_type": "stream",
     "text": [
      "Lowest Rent: 1200\n"
     ]
    }
   ],
   "source": [
    "#lowest rent\n",
    "print(f\"Lowest Rent: {Data.Rent.min()}\")"
   ]
  },
  {
   "cell_type": "code",
   "execution_count": 67,
   "metadata": {},
   "outputs": [
    {
     "data": {
      "image/png": "[encoded data removed]",
      "text/plain": [
       "<Figure size 432x288 with 1 Axes>"
      ]
     },
     "metadata": {
      "needs_background": "light"
     },
     "output_type": "display_data"
    }
   ],
   "source": [
    "# City to Rent ratio :\n",
    "x= Data[\"City\"]\n",
    "y= Data[\"Rent\"]\n",
    "plt.bar(x,y)\n",
    "plt.show()"
   ]
  },
  {
   "cell_type": "code",
   "execution_count": 68,
   "metadata": {},
   "outputs": [
    {
     "data": {
      "image/png": "[encoded data removed]",
      "text/plain": [
       "<Figure size 432x288 with 1 Axes>"
      ]
     },
     "metadata": {
      "needs_background": "light"
     },
     "output_type": "display_data"
    }
   ],
   "source": [
    "# Area type to Rent ratio :\n",
    "x= Data[\"Area Type\"]\n",
    "y= Data[\"Rent\"]\n",
    "plt.bar(x,y)\n",
    "plt.show()"
   ]
  },
  {
   "cell_type": "code",
   "execution_count": 78,
   "metadata": {},
   "outputs": [
    {
     "data": {
      "image/png": "[encoded data removed]",
      "text/plain": [
       "<Figure size 432x288 with 1 Axes>"
      ]
     },
     "metadata": {
      "needs_background": "light"
     },
     "output_type": "display_data"
    }
   ],
   "source": [
    "# Point of Contact to City ratio :\n",
    "x= Data[\"City\"]\n",
    "y= Data[\"Point of Contact\"]\n",
    "plt.bar(x,y)\n",
    "plt.show()"
   ]
  },
  {
   "cell_type": "code",
   "execution_count": 80,
   "metadata": {},
   "outputs": [
    {
     "data": {
      "image/png": "[encoded data removed]",
      "text/plain": [
       "<Figure size 432x288 with 1 Axes>"
      ]
     },
     "metadata": {
      "needs_background": "light"
     },
     "output_type": "display_data"
    }
   ],
   "source": [
    "# Tenant Preferred to Rent ratio :\n",
    "x= Data[\"Tenant Preferred\"]\n",
    "y= Data[\"Rent\"]\n",
    "plt.bar(x,y)\n",
    "plt.show()"
   ]
  },
  {
   "cell_type": "code",
   "execution_count": 79,
   "metadata": {},
   "outputs": [
    {
     "data": {
      "image/png": "[encoded data removed]",
      "text/plain": [
       "<Figure size 432x288 with 1 Axes>"
      ]
     },
     "metadata": {
      "needs_background": "light"
     },
     "output_type": "display_data"
    }
   ],
   "source": [
    "# Bathroom to BHK ratio :\n",
    "x= Data[\"Bathroom\"]\n",
    "y= Data[\"BHK\"]\n",
    "plt.bar(x,y)\n",
    "plt.show()"
   ]
  },
  {
   "cell_type": "code",
   "execution_count": 83,
   "metadata": {},
   "outputs": [
    {
     "data": {
      "image/png": "[encoded data removed]",
      "text/plain": [
       "<Figure size 432x288 with 1 Axes>"
      ]
     },
     "metadata": {
      "needs_background": "light"
     },
     "output_type": "display_data"
    }
   ],
   "source": [
    "# Floor to Rent ratio :\n",
    "x= Data[\"Floor\"]\n",
    "y= Data[\"Rent\"]\n",
    "plt.bar(x,y)\n",
    "plt.show()"
   ]
  },
  {
   "cell_type": "code",
   "execution_count": null,
   "metadata": {},
   "outputs": [],
   "source": []
  }
 ],
 "metadata": {
  "kernelspec": {
   "display_name": "Python 3.8.8 ('base')",
   "language": "python",
   "name": "python3"
  },
  "language_info": {
   "codemirror_mode": {
    "name": "ipython",
    "version": 3
   },
   "file_extension": ".py",
   "mimetype": "text/x-python",
   "name": "python",
   "nbconvert_exporter": "python",
   "pygments_lexer": "ipython3",
   "version": "3.8.8"
  },
  "orig_nbformat": 4,
  "vscode": {
   "interpreter": {
    "hash": "2043299c89c8cd0b4d1a6f5cf4529bd58e6a4e0fe3181a25e0d328c821cdc5c5"
   }
  }
 },
 "nbformat": 4,
 "nbformat_minor": 2
}
